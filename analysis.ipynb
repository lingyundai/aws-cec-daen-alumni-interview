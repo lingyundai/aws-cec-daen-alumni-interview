{
 "cells": [
  {
   "cell_type": "code",
   "execution_count": 1,
   "id": "915b6020",
   "metadata": {},
   "outputs": [],
   "source": [
    "# import aws python sdk\n",
    "import boto3\n",
    "import json"
   ]
  },
  {
   "cell_type": "code",
   "execution_count": 2,
   "id": "9c9fad82",
   "metadata": {
    "scrolled": true
   },
   "outputs": [
    {
     "name": "stdout",
     "output_type": "stream",
     "text": [
      "CEC-DAEN-2019-MS-1/\n",
      "CEC-DAEN-2019-MS-1/DAEN Interview - Atabak-20240926_153252-Meeting Recording.mp4\n",
      "CEC-DAEN-2019-MS-1/DAEN Interview - Atabak.docx\n",
      "CEC-DAEN-2019-MS-2/\n",
      "CEC-DAEN-2019-MS-2/DAEN Interview - Sri-20240927_153310-Meeting Recording.mp4\n",
      "CEC-DAEN-2019-MS-2/DAEN Interview - Sri.docx\n",
      "CEC-DAEN-2020-MS-1/\n",
      "CEC-DAEN-2020-MS-1/.write_access_check_file.temp\n",
      "CEC-DAEN-2020-MS-1/CEC-DAEN-2020-MS-1-AUDIO.json\n",
      "CEC-DAEN-2020-MS-1/audio1949956907.m4a\n",
      "CEC-DAEN-2020-MS-1/chat.txt\n",
      "CEC-DAEN-2020-MS-1/recording.conf\n",
      "CEC-DAEN-2020-MS-2/\n",
      "CEC-DAEN-2020-MS-2/.write_access_check_file.temp\n",
      "CEC-DAEN-2020-MS-2/CEC-DAEN-2020-MS-2-AUDIO.json\n",
      "CEC-DAEN-2020-MS-2/audio1084443373.m4a\n",
      "CEC-DAEN-2020-MS-2/chat.txt\n",
      "CEC-DAEN-2020-MS-2/recording.conf\n",
      "CEC-DAEN-2020-MS-2/video1084443373.mp4\n",
      "CEC-DAEN-2020-MS-3/\n",
      "CEC-DAEN-2020-MS-3/.write_access_check_file.temp\n",
      "CEC-DAEN-2020-MS-3/CEC-DAEN-2020-MS-3-AUDIO.json\n",
      "CEC-DAEN-2020-MS-3/audio1406916704.m4a\n",
      "CEC-DAEN-2020-MS-3/chat.txt\n",
      "CEC-DAEN-2020-MS-3/recording.conf\n",
      "CEC-DAEN-2020-MS-3/video1406916704.mp4\n",
      "CEC-DAEN-2020-MS-4/\n",
      "CEC-DAEN-2020-MS-4/.write_access_check_file.temp\n",
      "CEC-DAEN-2020-MS-4/CEC-DAEN-2020-MS-4-AUDIO.json\n",
      "CEC-DAEN-2020-MS-4/audio1857800144.m4a\n",
      "CEC-DAEN-2020-MS-4/chat.txt\n",
      "CEC-DAEN-2020-MS-4/recording.conf\n",
      "CEC-DAEN-2020-MS-4/video1857800144.mp4\n",
      "CEC-DAEN-2020-MS-5/\n",
      "CEC-DAEN-2020-MS-5/DAEN Interview - Shubham-20241015_143211-Meeting Recording.mp4\n",
      "CEC-DAEN-2020-MS-5/DAEN Interview - Shubham.docx\n",
      "CEC-DAEN-2021-MS-1/\n",
      "CEC-DAEN-2021-MS-1/.write_access_check_file.temp\n",
      "CEC-DAEN-2021-MS-1/CEC-DAEN-2021-MS-1-AUDIO.json\n",
      "CEC-DAEN-2021-MS-1/audio1679264876.m4a\n",
      "CEC-DAEN-2021-MS-1/recording.conf\n",
      "CEC-DAEN-2021-MS-1/video1679264876.mp4\n",
      "CEC-DAEN-2021-MS-2/\n",
      "CEC-DAEN-2021-MS-2/DAEN Interview - Dilpreet-20241007_120550-Meeting Recording.mp4\n",
      "CEC-DAEN-2021-MS-2/DAEN Interview - Dilpreet.docx\n",
      "CEC-DAEN-2021-MS-2/chat.docx\n",
      "CEC-DAEN-2021-MS-3/\n",
      "CEC-DAEN-2021-MS-3/DAEN Interview - Shreya-20241014_121616-Meeting Recording.mp4\n",
      "CEC-DAEN-2021-MS-3/DAEN Interview - Shreya.docx\n",
      "CEC-DAEN-2023-MS-1/\n",
      "CEC-DAEN-2023-MS-1/.write_access_check_file.temp\n",
      "CEC-DAEN-2023-MS-1/CEC-DAEN-2023-MS-1-AUDIO.json\n",
      "CEC-DAEN-2023-MS-1/audio1958303061.m4a\n",
      "CEC-DAEN-2023-MS-1/recording.conf\n",
      "CEC-DAEN-2023-MS-1/video1958303061.mp4\n",
      "CEC-DAEN-2023-MS-2/\n",
      "CEC-DAEN-2023-MS-2/DAEN Interview - Seunggyu.docx\n",
      "CEC-DAEN-2023-MS-3/\n",
      "CEC-DAEN-2023-MS-3/DAEN Interview - Saiprem-20241018_140006-Meeting Recording.mp4\n",
      "CEC-DAEN-2023-MS-3/DAEN Interview - Saiprem.docx\n"
     ]
    }
   ],
   "source": [
    "# create S3 client\n",
    "s3 = boto3.client('s3')\n",
    "\n",
    "# we have get objects permission in this bucket\n",
    "bucket_name = 'sagemaker-us-east-1-237863594148'\n",
    "\n",
    "response = s3.list_objects_v2(Bucket=bucket_name)\n",
    "\n",
    "# confirm access to all folders and file\n",
    "for obj in response['Contents']:\n",
    "    print(obj['Key'])"
   ]
  },
  {
   "cell_type": "markdown",
   "id": "58e80850",
   "metadata": {},
   "source": [
    "Some transcripts are in the format of JSON, others are in DOCX format. We need to create funtions to read both types."
   ]
  },
  {
   "cell_type": "code",
   "execution_count": 3,
   "id": "fa9fdc0b",
   "metadata": {},
   "outputs": [
    {
     "name": "stdout",
     "output_type": "stream",
     "text": [
      "{'transcript': \"This meeting is being recorded. OK. So just to confirm that uh the email that you share with me is, is that a good email uh to reach out to you? Yes, it is. OK. So uh what year? Uh and uh in, is it in spring or fall? Did you graduate from data analytics Engineering? I graduated during uh fall of 2020 in 2020. OK. Uh Did you receive a certificate or a master's degree? I received a master's. OK. Um OK. So uh what was the title of your first job and the name of the company uh and the department uh for graduation? Uh So actually I had a job before masters between master's and bachelor's. Uh Is that considered or after uh after getting a degree, master's degree after you graduated from the Data Analytics Engineering program? Uh It, it was a full stack developer. OK. Another uh do you mind sharing the company name and the department name after you uh that you worked at for this job? So it's a start up called uh Genius Plaza that uh do you mind like typing it uh out in the chat? So I get the spelling right? Ok. Ok. Thank you one moment. Uh So, uh what organization did you work in? Uh Genius Plaza? Oh, I was a part of um health care and I was also a part of um education. I worked with uh developing features for schools uh for uh classrooms and assignments and then for health care, I had to work on COVID vaccination data featured. Yeah. OK. Thank you so much. OK, Sounds good. Um What technologies uh or tools did you use for the job title for the full stack developer? Um I use Python Django uh on the back end. And uh yeah. Um I mean Django framework, the Django Wrist framework. Um My stack was Python Postscript, SQL, HTM and javascript React uh CS S React, CS S OK. That sounds good. Um uh What is your current job title? And the name and the company uh name of the company and the organization, the name of the company is called Markets Star currently and I'm a vendor for Google. I'm a senior account strategist and I work on sales data for um Google apps. OK? Oh You, you mentioned your uh uh work for Google? Sorry, I didn't get it. I the I work for a company called Market Star. OK. Yeah, I am a vendor for Google. So I work from a Google office from India. Uh Sounds good. Um So what, what kind of organization are you in right now? So, uh basically, uh, this organization is for marketing, uh, digital marketing and sales. OK. And, uh, we help with upselling and I take care of the reporting and data analysis for the sales data for conversions and um conversions and uh upsetting for each quarter, we have like four quarters. So I, that's pretty much what I work on. Um, it's for Google ads but. Ok. Sounds good. Google ads. OK. Uh, how, how many jobs have you had since you graduated? I've had three jobs since I've graduated. Um The first uh job is at Genius Plaza. Unfortunately, after it went bankrupt, I worked at Potomac Economics in Vienna, Virginia. And uh due to the session, like um I had to like come back to India and I started working at Market Star as a senior strategist. OK. Sounds good. OK. Thank you. Uh What would you say are the most used technologies, tools in your career so far? Like programming language framework, cloud machine learning. So I've used N LP. Um I've used, I mean Python Aws sequel. Um A You OK. Used um I've used Google Analytics, I've used Tableau and I've used Power Bi. OK. Would you say uh from uh the technologies you mentioned, what, which ones would you say are the most frequently used in your career so far? Bon Bon OK. Yeah. And, and, and sequel, Python and sequel sounds good. S OK. Um So what knowledge and skills that you acquire from uh DAEM program have been the most valuable to your career. Can you specify the concepts uh technologies that were the most valuable? Yes. Uh To me, um I think uh I have made a, I made a good decision by uh taking this course on natural language processing, which helped me understand how uh how text data works and how sentiment analysis works. I have used. Um I also use like um algorithms like knive base. Um I also use XT boost uh in order to like um understand sentiment analysis and um get proper results. Um I have also um taken a course on uh operations research which really helped me understand or, or you know, uh get, get my um skills around Excel. And um I, I think every uh everybody who gets into data analysis needs to understand how to at least get around like a paper table and calculate sub totals and sums. So that really helped me um Monte Carlo simulations, et cetera helped me like um understand data better, how we can like um optimize the data, optimize the values sounds good. OK. Um uh Is there a specific like a skill that you think is the most valuable? Um Yeah, I, I think when it comes to the course at GMU uh productive analysis and data mining is very valuable. Um Yeah, are you, I assume like you use these things during your work, right? And then it can transfer into your career. They do. Yes. Ok. Sounds good. Ok. So um here, here the, the next question is um if DAEM program provided these specific courses, topics or trainings, I will have been more prepared in my career. So what, what specific courses, topics and or trainings uh that you think the AM program could have provided to make you more well prepared for the, for your career? I think um to me it's a cloud cloud based data platforms like AWS A RR A GCP. It, it would, it would have really like uh pushed, pushed me to like uh be prepared, I think. And um there is already, I mean, um even though I was ad A and um uh student, I I have the liberty to take um machine learning or advanced machine learning courses from CS so that is covered. Um however, maybe um artificial intelligence ethics. Mhm A ie thinks would have been like really good to like uh explore because mm yes, learning about, about uh A I A thinks as well as um cloud based data platforms way before would have like mentally prepared me to uh understand things better. OK. Did you have to get like uh certificates on the side and learn the cloud based data platform on the site to be able to get hired to a job? Honestly, I think anybody can clear the certifications. I think it's that hands on pipeline that needs to be done from end to end. So I think if, if the course can like um integrated, I mean, if it is integrated into the whole uh program, it would, it would, it would be great as well. I mean, definitely uh people who do self study will study a lot. OK. OK. Got you. Uh So how, how, well do you think the DAN courses prepared you for your career? From scale of uh from scale of 1 to 5? One is not? Well at all five is very good and give me like a basic explanation. Uh I would say four. Um because um sometimes, I mean, the challenge for me was like, uh I felt that there is an over emphasis on theoretical knowledge at the expense of hands on projects. Sometimes um increasing opportunities for expe uh experiential learning through real world projects. Um Industry collaborations can help uh Capstone project definitely helped me. Um But um sometimes instead of just a, it's a project that they can nit pick for the sake of getting credits, they can solve like real world, real business problems and it could further enhance practical learning. I felt that and I felt like uh if there was interdisciplinary collaboration, like, like across various fields, for example, like business or social sciences or PP or health, um I feel like some programs may lack like cross-disciplinary opportunities so that strengthening the collaboration with other departments could have provided a more well rounded education. But um I was actually very happy with the, with my, my master's program but this, this can be like uh look looked into uh I think. Ok, thank you. Um So have you completed any courses certifications since you graduated from ad a em program? Um not related to data analysis? I have uh definitely done uh project management uh course from Google and uh I was in the process of finishing my A W A certification, but I didn't finish it yet. Uh I'm here too. Um Yeah, that, that about it. I, I did not touch anything else. OK. OK. Sounds good. All right. Uh That's, uh that's pretty much all the questions. Uh Doctor Bower, do you have any other questions? Um Yeah, I just wanted to, to touch on, on one thing shri just to, to ask you and, and this was really, really helpful the, the feedback that you gave us. But um in terms of um a I, you had mentioned a I um there's, and I just want to delineate a little bit here and, and I'm, I'm interested in your feedback on this. So, so there's a, I, and I'm gonna, I'm gonna stick with, with uh uh pra, you know, we are a um we are an applications based um program. We, we attempt to do that some of our courses uh may end up being more on the theoretical side and, and I heard that that was good input that we got back from you. Um But in terms of A I, um we would have to focus in our program here on the use of A I. So there'd be the general A I but then there would also be how A I is being leveraged for data analytics. Um And that's something that we're thinking of, of expanding on, maybe even creating our own course in that area. Is that something you know A I for da for data analytics, is that something that would be useful to you or are you just looking more at? It would be nice if I just had a general A I background, I'm I'm talking about A I for data analysis because I'm predominantly inclined towards data. Yeah. Uh So if, if at all, uh if the question is, how do I uh where am I coming from over here? Um It's just that I, I think it's that core of A I ethics curriculum tailored to like uh data analysis program like algorithmic bias and privacy and transparency. I mean, it, I'm not talking about the advanced stuff but um very basic practice of data analysis such as um data driven decisions and consequences of them and uh maybe use like real world case studies uh that highlight the ethical dilemmas in the um in the data analytics. Uh examples could include like biased data that's leading to like skew predictive uh outcomes. We use that when we were doing our projects but um it's, it's the misuse of data by corporations for profit kind of stuff, maybe on a, on a basic scale. Um or explore how like uh A I algorithms can introduce like biases and how to me these risks. Uh Yeah, I think it's the risk medication part. Um the basic part for it that would really help with the uh data, pre preparation analysis and the modeling phases initially. At least I think. OK, that's really good. That's really good. Um OK, so we're trying to keep it short and, and you, you did uh a stellar job in, in providing us with really concise uh succinct and terse responses which I think will be very, very valuable to both uh to, to, to Lin Ying and me who we're doing, we're doing the research right now. So uh the plan right now shri is for us, we're, we're trying to interview as many people as we can and, and so the plan right now is for us to do these interviews over the next six weeks or so. And then we're gonna crunch the data uh and then um sometime probably early next year, um We're going to try to get a, a um a generalized report that's rolled up. Um That does, that's completely, totally anonymous. And then we'll try, certainly the first reviewers of this are going to be our, our um are the people who had participated in providing us with this information or our, our alumni, uh, or alumni such as yourself. And then we'll get that out to you for a review and, uh, and we'll see what happens and then from there we'll, we'll take some actionable things like trying to make some changes to the program as well as the, the, the probably the more important aspect is starting to, to, to remain in touch with our alumni, providing some value to them, um, outside of the degree. And I think that's, that's really something I've always wanted uh for the program because we have more alumni than we have active students. And it really is the alumni who's out there practicing doing the work like you were, you were at a start up. Uh You were working here in the US and you went back to India and um we do want to track how because this is a very, very dynamic world. And uh we think that um because of the diverse diversity now where we have people all over the world working on analytics with all sorts of opportunities, uh We wanna make sure that we understand that as well. So you really gave us some really good um insights that uh we'd like to now create some uh extensions to our program and uh and also reach out to our alumni. So thank you again. Thank you very, very much. Awesome. Um um Thank you for having me and uh yeah, thanks, bye. Thank you. Ok, take care. Thank you for.\"}\n"
     ]
    },
    {
     "data": {
      "text/plain": [
       "{'transcript': \"This meeting is being recorded. OK. So just to confirm that uh the email that you share with me is, is that a good email uh to reach out to you? Yes, it is. OK. So uh what year? Uh and uh in, is it in spring or fall? Did you graduate from data analytics Engineering? I graduated during uh fall of 2020 in 2020. OK. Uh Did you receive a certificate or a master's degree? I received a master's. OK. Um OK. So uh what was the title of your first job and the name of the company uh and the department uh for graduation? Uh So actually I had a job before masters between master's and bachelor's. Uh Is that considered or after uh after getting a degree, master's degree after you graduated from the Data Analytics Engineering program? Uh It, it was a full stack developer. OK. Another uh do you mind sharing the company name and the department name after you uh that you worked at for this job? So it's a start up called uh Genius Plaza that uh do you mind like typing it uh out in the chat? So I get the spelling right? Ok. Ok. Thank you one moment. Uh So, uh what organization did you work in? Uh Genius Plaza? Oh, I was a part of um health care and I was also a part of um education. I worked with uh developing features for schools uh for uh classrooms and assignments and then for health care, I had to work on COVID vaccination data featured. Yeah. OK. Thank you so much. OK, Sounds good. Um What technologies uh or tools did you use for the job title for the full stack developer? Um I use Python Django uh on the back end. And uh yeah. Um I mean Django framework, the Django Wrist framework. Um My stack was Python Postscript, SQL, HTM and javascript React uh CS S React, CS S OK. That sounds good. Um uh What is your current job title? And the name and the company uh name of the company and the organization, the name of the company is called Markets Star currently and I'm a vendor for Google. I'm a senior account strategist and I work on sales data for um Google apps. OK? Oh You, you mentioned your uh uh work for Google? Sorry, I didn't get it. I the I work for a company called Market Star. OK. Yeah, I am a vendor for Google. So I work from a Google office from India. Uh Sounds good. Um So what, what kind of organization are you in right now? So, uh basically, uh, this organization is for marketing, uh, digital marketing and sales. OK. And, uh, we help with upselling and I take care of the reporting and data analysis for the sales data for conversions and um conversions and uh upsetting for each quarter, we have like four quarters. So I, that's pretty much what I work on. Um, it's for Google ads but. Ok. Sounds good. Google ads. OK. Uh, how, how many jobs have you had since you graduated? I've had three jobs since I've graduated. Um The first uh job is at Genius Plaza. Unfortunately, after it went bankrupt, I worked at Potomac Economics in Vienna, Virginia. And uh due to the session, like um I had to like come back to India and I started working at Market Star as a senior strategist. OK. Sounds good. OK. Thank you. Uh What would you say are the most used technologies, tools in your career so far? Like programming language framework, cloud machine learning. So I've used N LP. Um I've used, I mean Python Aws sequel. Um A You OK. Used um I've used Google Analytics, I've used Tableau and I've used Power Bi. OK. Would you say uh from uh the technologies you mentioned, what, which ones would you say are the most frequently used in your career so far? Bon Bon OK. Yeah. And, and, and sequel, Python and sequel sounds good. S OK. Um So what knowledge and skills that you acquire from uh DAEM program have been the most valuable to your career. Can you specify the concepts uh technologies that were the most valuable? Yes. Uh To me, um I think uh I have made a, I made a good decision by uh taking this course on natural language processing, which helped me understand how uh how text data works and how sentiment analysis works. I have used. Um I also use like um algorithms like knive base. Um I also use XT boost uh in order to like um understand sentiment analysis and um get proper results. Um I have also um taken a course on uh operations research which really helped me understand or, or you know, uh get, get my um skills around Excel. And um I, I think every uh everybody who gets into data analysis needs to understand how to at least get around like a paper table and calculate sub totals and sums. So that really helped me um Monte Carlo simulations, et cetera helped me like um understand data better, how we can like um optimize the data, optimize the values sounds good. OK. Um uh Is there a specific like a skill that you think is the most valuable? Um Yeah, I, I think when it comes to the course at GMU uh productive analysis and data mining is very valuable. Um Yeah, are you, I assume like you use these things during your work, right? And then it can transfer into your career. They do. Yes. Ok. Sounds good. Ok. So um here, here the, the next question is um if DAEM program provided these specific courses, topics or trainings, I will have been more prepared in my career. So what, what specific courses, topics and or trainings uh that you think the AM program could have provided to make you more well prepared for the, for your career? I think um to me it's a cloud cloud based data platforms like AWS A RR A GCP. It, it would, it would have really like uh pushed, pushed me to like uh be prepared, I think. And um there is already, I mean, um even though I was ad A and um uh student, I I have the liberty to take um machine learning or advanced machine learning courses from CS so that is covered. Um however, maybe um artificial intelligence ethics. Mhm A ie thinks would have been like really good to like uh explore because mm yes, learning about, about uh A I A thinks as well as um cloud based data platforms way before would have like mentally prepared me to uh understand things better. OK. Did you have to get like uh certificates on the side and learn the cloud based data platform on the site to be able to get hired to a job? Honestly, I think anybody can clear the certifications. I think it's that hands on pipeline that needs to be done from end to end. So I think if, if the course can like um integrated, I mean, if it is integrated into the whole uh program, it would, it would, it would be great as well. I mean, definitely uh people who do self study will study a lot. OK. OK. Got you. Uh So how, how, well do you think the DAN courses prepared you for your career? From scale of uh from scale of 1 to 5? One is not? Well at all five is very good and give me like a basic explanation. Uh I would say four. Um because um sometimes, I mean, the challenge for me was like, uh I felt that there is an over emphasis on theoretical knowledge at the expense of hands on projects. Sometimes um increasing opportunities for expe uh experiential learning through real world projects. Um Industry collaborations can help uh Capstone project definitely helped me. Um But um sometimes instead of just a, it's a project that they can nit pick for the sake of getting credits, they can solve like real world, real business problems and it could further enhance practical learning. I felt that and I felt like uh if there was interdisciplinary collaboration, like, like across various fields, for example, like business or social sciences or PP or health, um I feel like some programs may lack like cross-disciplinary opportunities so that strengthening the collaboration with other departments could have provided a more well rounded education. But um I was actually very happy with the, with my, my master's program but this, this can be like uh look looked into uh I think. Ok, thank you. Um So have you completed any courses certifications since you graduated from ad a em program? Um not related to data analysis? I have uh definitely done uh project management uh course from Google and uh I was in the process of finishing my A W A certification, but I didn't finish it yet. Uh I'm here too. Um Yeah, that, that about it. I, I did not touch anything else. OK. OK. Sounds good. All right. Uh That's, uh that's pretty much all the questions. Uh Doctor Bower, do you have any other questions? Um Yeah, I just wanted to, to touch on, on one thing shri just to, to ask you and, and this was really, really helpful the, the feedback that you gave us. But um in terms of um a I, you had mentioned a I um there's, and I just want to delineate a little bit here and, and I'm, I'm interested in your feedback on this. So, so there's a, I, and I'm gonna, I'm gonna stick with, with uh uh pra, you know, we are a um we are an applications based um program. We, we attempt to do that some of our courses uh may end up being more on the theoretical side and, and I heard that that was good input that we got back from you. Um But in terms of A I, um we would have to focus in our program here on the use of A I. So there'd be the general A I but then there would also be how A I is being leveraged for data analytics. Um And that's something that we're thinking of, of expanding on, maybe even creating our own course in that area. Is that something you know A I for da for data analytics, is that something that would be useful to you or are you just looking more at? It would be nice if I just had a general A I background, I'm I'm talking about A I for data analysis because I'm predominantly inclined towards data. Yeah. Uh So if, if at all, uh if the question is, how do I uh where am I coming from over here? Um It's just that I, I think it's that core of A I ethics curriculum tailored to like uh data analysis program like algorithmic bias and privacy and transparency. I mean, it, I'm not talking about the advanced stuff but um very basic practice of data analysis such as um data driven decisions and consequences of them and uh maybe use like real world case studies uh that highlight the ethical dilemmas in the um in the data analytics. Uh examples could include like biased data that's leading to like skew predictive uh outcomes. We use that when we were doing our projects but um it's, it's the misuse of data by corporations for profit kind of stuff, maybe on a, on a basic scale. Um or explore how like uh A I algorithms can introduce like biases and how to me these risks. Uh Yeah, I think it's the risk medication part. Um the basic part for it that would really help with the uh data, pre preparation analysis and the modeling phases initially. At least I think. OK, that's really good. That's really good. Um OK, so we're trying to keep it short and, and you, you did uh a stellar job in, in providing us with really concise uh succinct and terse responses which I think will be very, very valuable to both uh to, to, to Lin Ying and me who we're doing, we're doing the research right now. So uh the plan right now shri is for us, we're, we're trying to interview as many people as we can and, and so the plan right now is for us to do these interviews over the next six weeks or so. And then we're gonna crunch the data uh and then um sometime probably early next year, um We're going to try to get a, a um a generalized report that's rolled up. Um That does, that's completely, totally anonymous. And then we'll try, certainly the first reviewers of this are going to be our, our um are the people who had participated in providing us with this information or our, our alumni, uh, or alumni such as yourself. And then we'll get that out to you for a review and, uh, and we'll see what happens and then from there we'll, we'll take some actionable things like trying to make some changes to the program as well as the, the, the probably the more important aspect is starting to, to, to remain in touch with our alumni, providing some value to them, um, outside of the degree. And I think that's, that's really something I've always wanted uh for the program because we have more alumni than we have active students. And it really is the alumni who's out there practicing doing the work like you were, you were at a start up. Uh You were working here in the US and you went back to India and um we do want to track how because this is a very, very dynamic world. And uh we think that um because of the diverse diversity now where we have people all over the world working on analytics with all sorts of opportunities, uh We wanna make sure that we understand that as well. So you really gave us some really good um insights that uh we'd like to now create some uh extensions to our program and uh and also reach out to our alumni. So thank you again. Thank you very, very much. Awesome. Um um Thank you for having me and uh yeah, thanks, bye. Thank you. Ok, take care. Thank you for.\"}"
      ]
     },
     "execution_count": 3,
     "metadata": {},
     "output_type": "execute_result"
    }
   ],
   "source": [
    "# read josn file function\n",
    "def read_json_file(bucket, file_name):\n",
    "    try:\n",
    "        # Get the object from S3\n",
    "        response = s3.get_object(Bucket=bucket, Key=file_name)\n",
    "        \n",
    "        # Get the JSON file and access transcript[0] directly\n",
    "        transcript = json.loads(response['Body'].read().decode('utf-8'))['results']['transcripts'][0]\n",
    "        print(transcript)\n",
    "        \n",
    "        return transcript\n",
    "    \n",
    "    except Exception as e:\n",
    "        print(f\"Error reading {file_name}: {e}\")\n",
    "        return None\n",
    "\n",
    "read_json_file(bucket_name, \"CEC-DAEN-2020-MS-1/CEC-DAEN-2020-MS-1-AUDIO.json\")"
   ]
  },
  {
   "cell_type": "code",
   "execution_count": null,
   "id": "dafd0a7c",
   "metadata": {},
   "outputs": [
    {
     "name": "stdout",
     "output_type": "stream",
     "text": [
      "[main a1c7f1b] initial set up to access s3 buckets\n",
      " Committer: EC2 Default User <ec2-user@ip-172-16-167-124.ec2.internal>\n",
      "Your name and email address were configured automatically based\n",
      "on your username and hostname. Please check that they are accurate.\n",
      "You can suppress this message by setting them explicitly:\n",
      "\n",
      "    git config --global user.name \"Your Name\"\n",
      "    git config --global user.email you@example.com\n",
      "\n",
      "After doing this, you may fix the identity used for this commit with:\n",
      "\n",
      "    git commit --amend --reset-author\n",
      "\n",
      " 1 file changed, 178 insertions(+)\n",
      " create mode 100644 analysis.ipynb\n",
      "Username for 'https://github.com/lingyundai/aws-cec-daen-alumni-interview': "
     ]
    }
   ],
   "source": [
    "# Add your notebook files\n",
    "!git add analysis.ipynb\n",
    "\n",
    "# Commit changes\n",
    "!git commit -m \"initial set up to access s3 buckets\"\n",
    "\n",
    "# Push to GitHub\n",
    "!git push -u origin main  # or 'master' depending on your default branch\n",
    "\n",
    "!git config --global user.name \"lingyundai\"\n",
    "!git config --global user.email \"lingyundaiseven@gmail.com\""
   ]
  }
 ],
 "metadata": {
  "kernelspec": {
   "display_name": "conda_pytorch_p310",
   "language": "python",
   "name": "conda_pytorch_p310"
  },
  "language_info": {
   "codemirror_mode": {
    "name": "ipython",
    "version": 3
   },
   "file_extension": ".py",
   "mimetype": "text/x-python",
   "name": "python",
   "nbconvert_exporter": "python",
   "pygments_lexer": "ipython3",
   "version": "3.10.14"
  }
 },
 "nbformat": 4,
 "nbformat_minor": 5
}
