{
 "cells": [
  {
   "cell_type": "code",
   "execution_count": 1,
   "id": "e20468f3",
   "metadata": {},
   "outputs": [],
   "source": [
    "# import aws python sdk\n",
    "import boto3\n",
    "import json"
   ]
  },
  {
   "cell_type": "code",
   "execution_count": 2,
   "id": "69d43870",
   "metadata": {
    "scrolled": true
   },
   "outputs": [
    {
     "name": "stdout",
     "output_type": "stream",
     "text": [
      "CEC-DAEN-2019-MS-1/\n",
      "CEC-DAEN-2019-MS-1/DAEN Interview - Atabak-20240926_153252-Meeting Recording.mp4\n",
      "CEC-DAEN-2019-MS-1/DAEN Interview - Atabak.docx\n",
      "CEC-DAEN-2019-MS-2/\n",
      "CEC-DAEN-2019-MS-2/DAEN Interview - Sri-20240927_153310-Meeting Recording.mp4\n",
      "CEC-DAEN-2019-MS-2/DAEN Interview - Sri.docx\n",
      "CEC-DAEN-2020-MS-1/\n",
      "CEC-DAEN-2020-MS-1/.write_access_check_file.temp\n",
      "CEC-DAEN-2020-MS-1/CEC-DAEN-2020-MS-1-AUDIO.json\n",
      "CEC-DAEN-2020-MS-1/audio1949956907.m4a\n",
      "CEC-DAEN-2020-MS-1/chat.txt\n",
      "CEC-DAEN-2020-MS-1/recording.conf\n",
      "CEC-DAEN-2020-MS-2/\n",
      "CEC-DAEN-2020-MS-2/.write_access_check_file.temp\n",
      "CEC-DAEN-2020-MS-2/CEC-DAEN-2020-MS-2-AUDIO.json\n",
      "CEC-DAEN-2020-MS-2/audio1084443373.m4a\n",
      "CEC-DAEN-2020-MS-2/chat.txt\n",
      "CEC-DAEN-2020-MS-2/recording.conf\n",
      "CEC-DAEN-2020-MS-2/video1084443373.mp4\n",
      "CEC-DAEN-2020-MS-3/\n",
      "CEC-DAEN-2020-MS-3/.write_access_check_file.temp\n",
      "CEC-DAEN-2020-MS-3/CEC-DAEN-2020-MS-3-AUDIO.json\n",
      "CEC-DAEN-2020-MS-3/audio1406916704.m4a\n",
      "CEC-DAEN-2020-MS-3/chat.txt\n",
      "CEC-DAEN-2020-MS-3/recording.conf\n",
      "CEC-DAEN-2020-MS-3/video1406916704.mp4\n",
      "CEC-DAEN-2020-MS-4/\n",
      "CEC-DAEN-2020-MS-4/.write_access_check_file.temp\n",
      "CEC-DAEN-2020-MS-4/CEC-DAEN-2020-MS-4-AUDIO.json\n",
      "CEC-DAEN-2020-MS-4/audio1857800144.m4a\n",
      "CEC-DAEN-2020-MS-4/chat.txt\n",
      "CEC-DAEN-2020-MS-4/recording.conf\n",
      "CEC-DAEN-2020-MS-4/video1857800144.mp4\n",
      "CEC-DAEN-2020-MS-5/\n",
      "CEC-DAEN-2020-MS-5/DAEN Interview - Shubham-20241015_143211-Meeting Recording.mp4\n",
      "CEC-DAEN-2020-MS-5/DAEN Interview - Shubham.docx\n",
      "CEC-DAEN-2021-MS-1/\n",
      "CEC-DAEN-2021-MS-1/.write_access_check_file.temp\n",
      "CEC-DAEN-2021-MS-1/CEC-DAEN-2021-MS-1-AUDIO.json\n",
      "CEC-DAEN-2021-MS-1/audio1679264876.m4a\n",
      "CEC-DAEN-2021-MS-1/recording.conf\n",
      "CEC-DAEN-2021-MS-1/video1679264876.mp4\n",
      "CEC-DAEN-2021-MS-2/\n",
      "CEC-DAEN-2021-MS-2/DAEN Interview - Dilpreet-20241007_120550-Meeting Recording.mp4\n",
      "CEC-DAEN-2021-MS-2/DAEN Interview - Dilpreet.docx\n",
      "CEC-DAEN-2021-MS-2/chat.docx\n",
      "CEC-DAEN-2021-MS-3/\n",
      "CEC-DAEN-2021-MS-3/DAEN Interview - Shreya-20241014_121616-Meeting Recording.mp4\n",
      "CEC-DAEN-2021-MS-3/DAEN Interview - Shreya.docx\n",
      "CEC-DAEN-2023-MS-1/\n",
      "CEC-DAEN-2023-MS-1/.write_access_check_file.temp\n",
      "CEC-DAEN-2023-MS-1/CEC-DAEN-2023-MS-1-AUDIO.json\n",
      "CEC-DAEN-2023-MS-1/audio1958303061.m4a\n",
      "CEC-DAEN-2023-MS-1/recording.conf\n",
      "CEC-DAEN-2023-MS-1/video1958303061.mp4\n",
      "CEC-DAEN-2023-MS-2/\n",
      "CEC-DAEN-2023-MS-2/DAEN Interview - Seunggyu.docx\n",
      "CEC-DAEN-2023-MS-3/\n",
      "CEC-DAEN-2023-MS-3/DAEN Interview - Saiprem-20241018_140006-Meeting Recording.mp4\n",
      "CEC-DAEN-2023-MS-3/DAEN Interview - Saiprem.docx\n",
      "Error reading CEC-DAEN-2020-MS-1/CEC-DAEN-2020-MS-1-AUDIO.json: 0\n"
     ]
    }
   ],
   "source": [
    "# create S3 client\n",
    "s3 = boto3.client('s3')\n",
    "\n",
    "# we have get objects permission in this bucket\n",
    "bucket_name = 'sagemaker-us-east-1-237863594148'\n",
    "\n",
    "response = s3.list_objects_v2(Bucket=bucket_name)\n",
    "\n",
    "# confirm access to all folders and file\n",
    "for obj in response['Contents']:\n",
    "    print(obj['Key'])"
   ]
  },
  {
   "cell_type": "markdown",
   "id": "65fbd9b5",
   "metadata": {},
   "source": [
    "Some transcripts are in the format of JSON, others are in DOCX format. We need to create funtions to read both types."
   ]
  },
  {
   "cell_type": "code",
   "execution_count": null,
   "id": "158a0943",
   "metadata": {},
   "outputs": [],
   "source": [
    "# read josn file function\n",
    "def read_json_file(bucket, file_name):\n",
    "    try:\n",
    "        # Get the object from S3\n",
    "        response = s3.get_object(Bucket=bucket, Key=file_name)\n",
    "        \n",
    "        # Get the JSON file and access transcript[0] directly\n",
    "        transcript = json.loads(response['Body'].read().decode('utf-8'))['results']['transcripts'][0]\n",
    "        print(transcript)\n",
    "        \n",
    "        return transcript\n",
    "    \n",
    "    except Exception as e:\n",
    "        print(f\"Error reading {file_name}: {e}\")\n",
    "        return None\n",
    "\n",
    "read_json_file(bucket_name, \"CEC-DAEN-2020-MS-1/CEC-DAEN-2020-MS-1-AUDIO.json\")"
   ]
  },
  {
   "cell_type": "code",
   "execution_count": null,
   "id": "f5f037a2",
   "metadata": {},
   "outputs": [],
   "source": [
    "# Add your notebook files\n",
    "!git add analysis.ipynb\n",
    "\n",
    "# Commit changes\n",
    "!git commit -m \"initial set up to access s3 buckets\"\n",
    "\n",
    "# Push to GitHub\n",
    "!git push -u origin main  # or 'master' depending on your default branch"
   ]
  }
 ],
 "metadata": {
  "kernelspec": {
   "display_name": "conda_pytorch_p310",
   "language": "python",
   "name": "conda_pytorch_p310"
  },
  "language_info": {
   "codemirror_mode": {
    "name": "ipython",
    "version": 3
   },
   "file_extension": ".py",
   "mimetype": "text/x-python",
   "name": "python",
   "nbconvert_exporter": "python",
   "pygments_lexer": "ipython3",
   "version": "3.10.14"
  }
 },
 "nbformat": 4,
 "nbformat_minor": 5
}
